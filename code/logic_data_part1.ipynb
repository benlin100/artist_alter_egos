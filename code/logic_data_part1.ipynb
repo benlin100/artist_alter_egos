{
 "cells": [
  {
   "cell_type": "markdown",
   "metadata": {},
   "source": [
    "# My pipeline for scraping the data & using thecypher package:"
   ]
  },
  {
   "cell_type": "code",
   "execution_count": 1,
   "metadata": {},
   "outputs": [],
   "source": [
    "import thecypher as cy"
   ]
  },
  {
   "cell_type": "code",
   "execution_count": 2,
   "metadata": {},
   "outputs": [
    {
     "name": "stderr",
     "output_type": "stream",
     "text": [
      "/anaconda3/lib/python2.7/site-packages/bs4/__init__.py:181: UserWarning: No parser was explicitly specified, so I'm using the best available HTML parser for this system (\"lxml\"). This usually isn't a problem, but if you run this code on another system, or in a different virtual environment, it may use a different parser and behave differently.\n",
      "\n",
      "The code that caused this warning is on line 162 of the file /anaconda3/lib/python2.7/runpy.py. To get rid of this warning, change code that looks like this:\n",
      "\n",
      " BeautifulSoup(YOUR_MARKUP})\n",
      "\n",
      "to this:\n",
      "\n",
      " BeautifulSoup(YOUR_MARKUP, \"lxml\")\n",
      "\n",
      "  markup_type=markup_type))\n",
      "2018-06-03 09:51:58,152 : INFO : GET Artist URL: http://lyrics.wikia.com/wiki/Logic\n",
      "2018-06-03 09:51:58,685 : INFO : GET Artist Album: Welcome to Forever (2013)\n",
      "2018-06-03 09:52:06,443 : INFO : GET Artist Album Successful: Welcome to Forever (2013)\n",
      "2018-06-03 09:52:06,445 : INFO : GET Artist Album: Misc (0000)\n",
      "2018-06-03 09:52:06,447 : INFO : GET Artist Album Successful: Misc (0000)\n",
      "2018-06-03 09:52:06,449 : INFO : GET Artist Album: Undeniable (2012)\n",
      "2018-06-03 09:52:16,710 : INFO : GET Artist Album Successful: Undeniable (2012)\n",
      "2018-06-03 09:52:16,712 : INFO : GET Artist Album: Edit\n",
      "2018-06-03 09:52:17,447 : INFO : GET Artist Album Successful: Edit\n",
      "2018-06-03 09:52:17,448 : INFO : GET Artist Album: The Incredible True Story (2015)\n",
      "2018-06-03 09:52:24,705 : INFO : GET Artist Album Successful: The Incredible True Story (2015)\n",
      "2018-06-03 09:52:24,706 : INFO : GET Artist Album: Young Sinatra (2011)\n",
      "2018-06-03 09:52:35,125 : INFO : GET Artist Album Successful: Young Sinatra (2011)\n",
      "2018-06-03 09:52:35,127 : INFO : GET Artist Album: Bobby Tarantino (2016)\n",
      "2018-06-03 09:52:40,427 : INFO : GET Artist Album Successful: Bobby Tarantino (2016)\n",
      "2018-06-03 09:52:40,429 : INFO : GET Artist Album: Everybody (2017)\n",
      "2018-06-03 09:52:50,692 : INFO : GET Artist Album Successful: Everybody (2017)\n",
      "2018-06-03 09:52:50,700 : INFO : GET Artist Album: Under Pressure (2014)\n",
      "2018-06-03 09:53:02,326 : INFO : GET Artist Album Successful: Under Pressure (2014)\n"
     ]
    }
   ],
   "source": [
    "logic = cy.get_lyrics('logic')"
   ]
  },
  {
   "cell_type": "code",
   "execution_count": 3,
   "metadata": {},
   "outputs": [
    {
     "data": {
      "text/html": [
       "<div>\n",
       "<style scoped>\n",
       "    .dataframe tbody tr th:only-of-type {\n",
       "        vertical-align: middle;\n",
       "    }\n",
       "\n",
       "    .dataframe tbody tr th {\n",
       "        vertical-align: top;\n",
       "    }\n",
       "\n",
       "    .dataframe thead th {\n",
       "        text-align: right;\n",
       "    }\n",
       "</style>\n",
       "<table border=\"1\" class=\"dataframe\">\n",
       "  <thead>\n",
       "    <tr style=\"text-align: right;\">\n",
       "      <th></th>\n",
       "      <th>album</th>\n",
       "      <th>album_genre</th>\n",
       "      <th>artist</th>\n",
       "      <th>genre</th>\n",
       "      <th>id</th>\n",
       "      <th>lyric</th>\n",
       "      <th>song</th>\n",
       "      <th>year</th>\n",
       "    </tr>\n",
       "  </thead>\n",
       "  <tbody>\n",
       "    <tr>\n",
       "      <th>0</th>\n",
       "      <td>Welcome to Forever (2013)</td>\n",
       "      <td></td>\n",
       "      <td>logic</td>\n",
       "      <td>Hip Hop</td>\n",
       "      <td>0</td>\n",
       "      <td>I've seen a lot of shit I shouldn't have but never forgot it though</td>\n",
       "      <td>5AM</td>\n",
       "      <td>2013</td>\n",
       "    </tr>\n",
       "    <tr>\n",
       "      <th>1</th>\n",
       "      <td>Welcome to Forever (2013)</td>\n",
       "      <td></td>\n",
       "      <td>logic</td>\n",
       "      <td>Hip Hop</td>\n",
       "      <td>1</td>\n",
       "      <td>Brothers on the corners selling crack like it was nada though</td>\n",
       "      <td>5AM</td>\n",
       "      <td>2013</td>\n",
       "    </tr>\n",
       "    <tr>\n",
       "      <th>2</th>\n",
       "      <td>Welcome to Forever (2013)</td>\n",
       "      <td></td>\n",
       "      <td>logic</td>\n",
       "      <td>Hip Hop</td>\n",
       "      <td>2</td>\n",
       "      <td>Walk inside my kitchen baking soda all up on the floor</td>\n",
       "      <td>5AM</td>\n",
       "      <td>2013</td>\n",
       "    </tr>\n",
       "    <tr>\n",
       "      <th>3</th>\n",
       "      <td>Welcome to Forever (2013)</td>\n",
       "      <td></td>\n",
       "      <td>logic</td>\n",
       "      <td>Hip Hop</td>\n",
       "      <td>3</td>\n",
       "      <td>Police banging on the door</td>\n",
       "      <td>5AM</td>\n",
       "      <td>2013</td>\n",
       "    </tr>\n",
       "    <tr>\n",
       "      <th>4</th>\n",
       "      <td>Welcome to Forever (2013)</td>\n",
       "      <td></td>\n",
       "      <td>logic</td>\n",
       "      <td>Hip Hop</td>\n",
       "      <td>4</td>\n",
       "      <td>While gripping a.44</td>\n",
       "      <td>5AM</td>\n",
       "      <td>2013</td>\n",
       "    </tr>\n",
       "  </tbody>\n",
       "</table>\n",
       "</div>"
      ],
      "text/plain": [
       "                       album album_genre artist    genre  id  \\\n",
       "0  Welcome to Forever (2013)              logic  Hip Hop  0    \n",
       "1  Welcome to Forever (2013)              logic  Hip Hop  1    \n",
       "2  Welcome to Forever (2013)              logic  Hip Hop  2    \n",
       "3  Welcome to Forever (2013)              logic  Hip Hop  3    \n",
       "4  Welcome to Forever (2013)              logic  Hip Hop  4    \n",
       "\n",
       "                                                                 lyric song  \\\n",
       "0  I've seen a lot of shit I shouldn't have but never forgot it though  5AM   \n",
       "1  Brothers on the corners selling crack like it was nada though        5AM   \n",
       "2  Walk inside my kitchen baking soda all up on the floor               5AM   \n",
       "3  Police banging on the door                                           5AM   \n",
       "4  While gripping a.44                                                  5AM   \n",
       "\n",
       "   year  \n",
       "0  2013  \n",
       "1  2013  \n",
       "2  2013  \n",
       "3  2013  \n",
       "4  2013  "
      ]
     },
     "execution_count": 3,
     "metadata": {},
     "output_type": "execute_result"
    }
   ],
   "source": [
    "\n",
    "import pandas as pd\n",
    "pd.set_option('display.max_colwidth', -1)\n",
    "\n",
    "\n",
    "\n",
    "logic_df = pd.DataFrame(logic)\n",
    "logic_df.head()"
   ]
  },
  {
   "cell_type": "code",
   "execution_count": 4,
   "metadata": {},
   "outputs": [
    {
     "data": {
      "text/plain": [
       "Everybody (2017)                    1422\n",
       "Young Sinatra (2011)                1259\n",
       "Under Pressure (2014)               1114\n",
       "The Incredible True Story (2015)    1075\n",
       "Undeniable (2012)                   785 \n",
       "Bobby Tarantino (2016)              676 \n",
       "Edit                                116 \n",
       "Welcome to Forever (2013)           65  \n",
       "Name: album, dtype: int64"
      ]
     },
     "execution_count": 4,
     "metadata": {},
     "output_type": "execute_result"
    }
   ],
   "source": [
    "logic_df.album.value_counts()"
   ]
  },
  {
   "cell_type": "markdown",
   "metadata": {},
   "source": [
    "#LOGIC \n",
    "- Everybody (1422)\n",
    "- The Incredible True Story (1075)\n",
    "\n",
    "\n",
    "\n",
    "\n",
    "#BT \n",
    "- BT1 (676)\n",
    "\n",
    "\n",
    "\n",
    "\n",
    "#YOUNG SINATRA \n",
    "- Young Sinatra (1259) \n",
    "- Undeniable (785)"
   ]
  },
  {
   "cell_type": "code",
   "execution_count": 5,
   "metadata": {},
   "outputs": [],
   "source": [
    "logic_df = logic_df[logic_df.album != 'Under Pressure (2014)']"
   ]
  },
  {
   "cell_type": "code",
   "execution_count": 6,
   "metadata": {},
   "outputs": [],
   "source": [
    "logic_df = logic_df[logic_df.album != 'Edit']"
   ]
  },
  {
   "cell_type": "code",
   "execution_count": 7,
   "metadata": {},
   "outputs": [],
   "source": [
    "logic_df = logic_df[logic_df.album != 'Welcome to Forever (2013)']"
   ]
  },
  {
   "cell_type": "code",
   "execution_count": 8,
   "metadata": {},
   "outputs": [
    {
     "data": {
      "text/plain": [
       "Everybody (2017)                    1422\n",
       "Young Sinatra (2011)                1259\n",
       "The Incredible True Story (2015)    1075\n",
       "Undeniable (2012)                   785 \n",
       "Bobby Tarantino (2016)              676 \n",
       "Name: album, dtype: int64"
      ]
     },
     "execution_count": 8,
     "metadata": {},
     "output_type": "execute_result"
    }
   ],
   "source": [
    "logic_df.album.value_counts()"
   ]
  },
  {
   "cell_type": "code",
   "execution_count": 9,
   "metadata": {},
   "outputs": [],
   "source": [
    "logic_df.reset_index(inplace=True)"
   ]
  },
  {
   "cell_type": "code",
   "execution_count": 10,
   "metadata": {},
   "outputs": [],
   "source": [
    "logic_df.drop(['index', 'album_genre', 'genre', 'id', 'year'], axis=1, inplace=True)"
   ]
  },
  {
   "cell_type": "code",
   "execution_count": 11,
   "metadata": {},
   "outputs": [
    {
     "data": {
      "text/html": [
       "<div>\n",
       "<style scoped>\n",
       "    .dataframe tbody tr th:only-of-type {\n",
       "        vertical-align: middle;\n",
       "    }\n",
       "\n",
       "    .dataframe tbody tr th {\n",
       "        vertical-align: top;\n",
       "    }\n",
       "\n",
       "    .dataframe thead th {\n",
       "        text-align: right;\n",
       "    }\n",
       "</style>\n",
       "<table border=\"1\" class=\"dataframe\">\n",
       "  <thead>\n",
       "    <tr style=\"text-align: right;\">\n",
       "      <th></th>\n",
       "      <th>album</th>\n",
       "      <th>artist</th>\n",
       "      <th>lyric</th>\n",
       "      <th>song</th>\n",
       "    </tr>\n",
       "  </thead>\n",
       "  <tbody>\n",
       "    <tr>\n",
       "      <th>0</th>\n",
       "      <td>Undeniable (2012)</td>\n",
       "      <td>logic</td>\n",
       "      <td>Yeah; pass the mic before I jack it like gore-tex</td>\n",
       "      <td>Disgusting</td>\n",
       "    </tr>\n",
       "    <tr>\n",
       "      <th>1</th>\n",
       "      <td>Undeniable (2012)</td>\n",
       "      <td>logic</td>\n",
       "      <td>Bust like raw sex, rappers suck like vortex</td>\n",
       "      <td>Disgusting</td>\n",
       "    </tr>\n",
       "    <tr>\n",
       "      <th>2</th>\n",
       "      <td>Undeniable (2012)</td>\n",
       "      <td>logic</td>\n",
       "      <td>The life of a Don- We living like kings, and killing our pawns</td>\n",
       "      <td>Disgusting</td>\n",
       "    </tr>\n",
       "    <tr>\n",
       "      <th>3</th>\n",
       "      <td>Undeniable (2012)</td>\n",
       "      <td>logic</td>\n",
       "      <td>Boy, the seconds it's on - don't know where we going</td>\n",
       "      <td>Disgusting</td>\n",
       "    </tr>\n",
       "    <tr>\n",
       "      <th>4</th>\n",
       "      <td>Undeniable (2012)</td>\n",
       "      <td>logic</td>\n",
       "      <td>I'm flowing and killing this shit from dusk till dawn</td>\n",
       "      <td>Disgusting</td>\n",
       "    </tr>\n",
       "  </tbody>\n",
       "</table>\n",
       "</div>"
      ],
      "text/plain": [
       "               album artist  \\\n",
       "0  Undeniable (2012)  logic   \n",
       "1  Undeniable (2012)  logic   \n",
       "2  Undeniable (2012)  logic   \n",
       "3  Undeniable (2012)  logic   \n",
       "4  Undeniable (2012)  logic   \n",
       "\n",
       "                                                            lyric        song  \n",
       "0  Yeah; pass the mic before I jack it like gore-tex               Disgusting  \n",
       "1  Bust like raw sex, rappers suck like vortex                     Disgusting  \n",
       "2  The life of a Don- We living like kings, and killing our pawns  Disgusting  \n",
       "3  Boy, the seconds it's on - don't know where we going            Disgusting  \n",
       "4  I'm flowing and killing this shit from dusk till dawn           Disgusting  "
      ]
     },
     "execution_count": 11,
     "metadata": {},
     "output_type": "execute_result"
    }
   ],
   "source": [
    "logic_df.head()"
   ]
  },
  {
   "cell_type": "code",
   "execution_count": 12,
   "metadata": {},
   "outputs": [],
   "source": [
    "logic_df.loc[logic_df['album'] == 'Young Sinatra (2011)', \"artist\"] = \"Young Sinatra\"\n",
    "logic_df.loc[logic_df['album'] == 'Undeniable (2012)', \"artist\"] = \"Young Sinatra\"\n",
    "logic_df.loc[logic_df['album'] == 'Bobby Tarantino (2016)', \"artist\"] = \"bobby tarantino\""
   ]
  },
  {
   "cell_type": "code",
   "execution_count": 13,
   "metadata": {},
   "outputs": [
    {
     "data": {
      "text/plain": [
       "logic              2497\n",
       "Young Sinatra      2044\n",
       "bobby tarantino    676 \n",
       "Name: artist, dtype: int64"
      ]
     },
     "execution_count": 13,
     "metadata": {},
     "output_type": "execute_result"
    }
   ],
   "source": [
    "logic_df.artist.value_counts()"
   ]
  },
  {
   "cell_type": "code",
   "execution_count": 14,
   "metadata": {},
   "outputs": [],
   "source": [
    "logic_df.to_csv('logic_df_part1.csv', encoding='utf-8')"
   ]
  }
 ],
 "metadata": {
  "kernelspec": {
   "display_name": "Python 2",
   "language": "python",
   "name": "python2"
  },
  "language_info": {
   "codemirror_mode": {
    "name": "ipython",
    "version": 2
   },
   "file_extension": ".py",
   "mimetype": "text/x-python",
   "name": "python",
   "nbconvert_exporter": "python",
   "pygments_lexer": "ipython2",
   "version": "2.7.10"
  }
 },
 "nbformat": 4,
 "nbformat_minor": 2
}
