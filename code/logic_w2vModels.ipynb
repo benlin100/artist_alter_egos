{
 "cells": [
  {
   "cell_type": "markdown",
   "metadata": {},
   "source": [
    "# Text Cleaning & Processing "
   ]
  },
  {
   "cell_type": "code",
   "execution_count": 1,
   "metadata": {},
   "outputs": [],
   "source": [
    "import pandas as pd\n",
    "import numpy as np\n",
    "pd.set_option('display.max_colwidth', -1)\n",
    "pd.set_option('display.max_rows', 500000)\n",
    "logic_df = pd.read_csv('logic_df_final.csv', index_col=0)"
   ]
  },
  {
   "cell_type": "code",
   "execution_count": 2,
   "metadata": {},
   "outputs": [
    {
     "data": {
      "text/plain": [
       "(5890, 4)"
      ]
     },
     "execution_count": 2,
     "metadata": {},
     "output_type": "execute_result"
    }
   ],
   "source": [
    "logic_df.shape"
   ]
  },
  {
   "cell_type": "markdown",
   "metadata": {},
   "source": [
    "# Processing "
   ]
  },
  {
   "cell_type": "code",
   "execution_count": 3,
   "metadata": {},
   "outputs": [],
   "source": [
    "#clean text \n",
    "#tokenize text\n",
    "#use vectorizers \n",
    "#Count Vectorizer does one hot encoding "
   ]
  },
  {
   "cell_type": "markdown",
   "metadata": {},
   "source": [
    "**Remove all irrelevant characters such as any non alphanumeric characters**"
   ]
  },
  {
   "cell_type": "code",
   "execution_count": 4,
   "metadata": {},
   "outputs": [],
   "source": [
    "logic_df.lyric = logic_df.lyric.str.replace(r'([^\\s\\w]|_)+', '')"
   ]
  },
  {
   "cell_type": "code",
   "execution_count": 5,
   "metadata": {},
   "outputs": [
    {
     "data": {
      "text/html": [
       "<div>\n",
       "<style scoped>\n",
       "    .dataframe tbody tr th:only-of-type {\n",
       "        vertical-align: middle;\n",
       "    }\n",
       "\n",
       "    .dataframe tbody tr th {\n",
       "        vertical-align: top;\n",
       "    }\n",
       "\n",
       "    .dataframe thead th {\n",
       "        text-align: right;\n",
       "    }\n",
       "</style>\n",
       "<table border=\"1\" class=\"dataframe\">\n",
       "  <thead>\n",
       "    <tr style=\"text-align: right;\">\n",
       "      <th></th>\n",
       "      <th>album</th>\n",
       "      <th>artist</th>\n",
       "      <th>lyric</th>\n",
       "      <th>song</th>\n",
       "    </tr>\n",
       "  </thead>\n",
       "  <tbody>\n",
       "    <tr>\n",
       "      <th>0</th>\n",
       "      <td>Undeniable (2012)</td>\n",
       "      <td>Young Sinatra</td>\n",
       "      <td>Yeah pass the mic before I jack it like goretex</td>\n",
       "      <td>Disgusting</td>\n",
       "    </tr>\n",
       "    <tr>\n",
       "      <th>1</th>\n",
       "      <td>Undeniable (2012)</td>\n",
       "      <td>Young Sinatra</td>\n",
       "      <td>Bust like raw sex rappers suck like vortex</td>\n",
       "      <td>Disgusting</td>\n",
       "    </tr>\n",
       "    <tr>\n",
       "      <th>2</th>\n",
       "      <td>Undeniable (2012)</td>\n",
       "      <td>Young Sinatra</td>\n",
       "      <td>The life of a Don We living like kings and killing our pawns</td>\n",
       "      <td>Disgusting</td>\n",
       "    </tr>\n",
       "    <tr>\n",
       "      <th>3</th>\n",
       "      <td>Undeniable (2012)</td>\n",
       "      <td>Young Sinatra</td>\n",
       "      <td>Boy the seconds its on  dont know where we going</td>\n",
       "      <td>Disgusting</td>\n",
       "    </tr>\n",
       "    <tr>\n",
       "      <th>4</th>\n",
       "      <td>Undeniable (2012)</td>\n",
       "      <td>Young Sinatra</td>\n",
       "      <td>Im flowing and killing this shit from dusk till dawn</td>\n",
       "      <td>Disgusting</td>\n",
       "    </tr>\n",
       "  </tbody>\n",
       "</table>\n",
       "</div>"
      ],
      "text/plain": [
       "               album         artist  \\\n",
       "0  Undeniable (2012)  Young Sinatra   \n",
       "1  Undeniable (2012)  Young Sinatra   \n",
       "2  Undeniable (2012)  Young Sinatra   \n",
       "3  Undeniable (2012)  Young Sinatra   \n",
       "4  Undeniable (2012)  Young Sinatra   \n",
       "\n",
       "                                                          lyric        song  \n",
       "0  Yeah pass the mic before I jack it like goretex               Disgusting  \n",
       "1  Bust like raw sex rappers suck like vortex                    Disgusting  \n",
       "2  The life of a Don We living like kings and killing our pawns  Disgusting  \n",
       "3  Boy the seconds its on  dont know where we going              Disgusting  \n",
       "4  Im flowing and killing this shit from dusk till dawn          Disgusting  "
      ]
     },
     "execution_count": 5,
     "metadata": {},
     "output_type": "execute_result"
    }
   ],
   "source": [
    "logic_df.head()"
   ]
  },
  {
   "cell_type": "markdown",
   "metadata": {},
   "source": [
    "**make all the text data lowercase**"
   ]
  },
  {
   "cell_type": "code",
   "execution_count": 6,
   "metadata": {},
   "outputs": [],
   "source": [
    "logic_df.lyric = logic_df.lyric.str.lower()"
   ]
  },
  {
   "cell_type": "code",
   "execution_count": 7,
   "metadata": {},
   "outputs": [
    {
     "data": {
      "text/html": [
       "<div>\n",
       "<style scoped>\n",
       "    .dataframe tbody tr th:only-of-type {\n",
       "        vertical-align: middle;\n",
       "    }\n",
       "\n",
       "    .dataframe tbody tr th {\n",
       "        vertical-align: top;\n",
       "    }\n",
       "\n",
       "    .dataframe thead th {\n",
       "        text-align: right;\n",
       "    }\n",
       "</style>\n",
       "<table border=\"1\" class=\"dataframe\">\n",
       "  <thead>\n",
       "    <tr style=\"text-align: right;\">\n",
       "      <th></th>\n",
       "      <th>album</th>\n",
       "      <th>artist</th>\n",
       "      <th>lyric</th>\n",
       "      <th>song</th>\n",
       "    </tr>\n",
       "  </thead>\n",
       "  <tbody>\n",
       "    <tr>\n",
       "      <th>0</th>\n",
       "      <td>Undeniable (2012)</td>\n",
       "      <td>Young Sinatra</td>\n",
       "      <td>yeah pass the mic before i jack it like goretex</td>\n",
       "      <td>Disgusting</td>\n",
       "    </tr>\n",
       "    <tr>\n",
       "      <th>1</th>\n",
       "      <td>Undeniable (2012)</td>\n",
       "      <td>Young Sinatra</td>\n",
       "      <td>bust like raw sex rappers suck like vortex</td>\n",
       "      <td>Disgusting</td>\n",
       "    </tr>\n",
       "    <tr>\n",
       "      <th>2</th>\n",
       "      <td>Undeniable (2012)</td>\n",
       "      <td>Young Sinatra</td>\n",
       "      <td>the life of a don we living like kings and killing our pawns</td>\n",
       "      <td>Disgusting</td>\n",
       "    </tr>\n",
       "    <tr>\n",
       "      <th>3</th>\n",
       "      <td>Undeniable (2012)</td>\n",
       "      <td>Young Sinatra</td>\n",
       "      <td>boy the seconds its on  dont know where we going</td>\n",
       "      <td>Disgusting</td>\n",
       "    </tr>\n",
       "    <tr>\n",
       "      <th>4</th>\n",
       "      <td>Undeniable (2012)</td>\n",
       "      <td>Young Sinatra</td>\n",
       "      <td>im flowing and killing this shit from dusk till dawn</td>\n",
       "      <td>Disgusting</td>\n",
       "    </tr>\n",
       "  </tbody>\n",
       "</table>\n",
       "</div>"
      ],
      "text/plain": [
       "               album         artist  \\\n",
       "0  Undeniable (2012)  Young Sinatra   \n",
       "1  Undeniable (2012)  Young Sinatra   \n",
       "2  Undeniable (2012)  Young Sinatra   \n",
       "3  Undeniable (2012)  Young Sinatra   \n",
       "4  Undeniable (2012)  Young Sinatra   \n",
       "\n",
       "                                                          lyric        song  \n",
       "0  yeah pass the mic before i jack it like goretex               Disgusting  \n",
       "1  bust like raw sex rappers suck like vortex                    Disgusting  \n",
       "2  the life of a don we living like kings and killing our pawns  Disgusting  \n",
       "3  boy the seconds its on  dont know where we going              Disgusting  \n",
       "4  im flowing and killing this shit from dusk till dawn          Disgusting  "
      ]
     },
     "execution_count": 7,
     "metadata": {},
     "output_type": "execute_result"
    }
   ],
   "source": [
    "logic_df.head()"
   ]
  },
  {
   "cell_type": "code",
   "execution_count": 8,
   "metadata": {},
   "outputs": [],
   "source": [
    "model_df = logic_df.drop([\"album\", \"song\"], axis=1)"
   ]
  },
  {
   "cell_type": "code",
   "execution_count": 9,
   "metadata": {},
   "outputs": [
    {
     "data": {
      "text/html": [
       "<div>\n",
       "<style scoped>\n",
       "    .dataframe tbody tr th:only-of-type {\n",
       "        vertical-align: middle;\n",
       "    }\n",
       "\n",
       "    .dataframe tbody tr th {\n",
       "        vertical-align: top;\n",
       "    }\n",
       "\n",
       "    .dataframe thead th {\n",
       "        text-align: right;\n",
       "    }\n",
       "</style>\n",
       "<table border=\"1\" class=\"dataframe\">\n",
       "  <thead>\n",
       "    <tr style=\"text-align: right;\">\n",
       "      <th></th>\n",
       "      <th>artist</th>\n",
       "      <th>lyric</th>\n",
       "    </tr>\n",
       "  </thead>\n",
       "  <tbody>\n",
       "    <tr>\n",
       "      <th>0</th>\n",
       "      <td>Young Sinatra</td>\n",
       "      <td>yeah pass the mic before i jack it like goretex</td>\n",
       "    </tr>\n",
       "    <tr>\n",
       "      <th>1</th>\n",
       "      <td>Young Sinatra</td>\n",
       "      <td>bust like raw sex rappers suck like vortex</td>\n",
       "    </tr>\n",
       "    <tr>\n",
       "      <th>2</th>\n",
       "      <td>Young Sinatra</td>\n",
       "      <td>the life of a don we living like kings and killing our pawns</td>\n",
       "    </tr>\n",
       "    <tr>\n",
       "      <th>3</th>\n",
       "      <td>Young Sinatra</td>\n",
       "      <td>boy the seconds its on  dont know where we going</td>\n",
       "    </tr>\n",
       "    <tr>\n",
       "      <th>4</th>\n",
       "      <td>Young Sinatra</td>\n",
       "      <td>im flowing and killing this shit from dusk till dawn</td>\n",
       "    </tr>\n",
       "  </tbody>\n",
       "</table>\n",
       "</div>"
      ],
      "text/plain": [
       "          artist                                                         lyric\n",
       "0  Young Sinatra  yeah pass the mic before i jack it like goretex             \n",
       "1  Young Sinatra  bust like raw sex rappers suck like vortex                  \n",
       "2  Young Sinatra  the life of a don we living like kings and killing our pawns\n",
       "3  Young Sinatra  boy the seconds its on  dont know where we going            \n",
       "4  Young Sinatra  im flowing and killing this shit from dusk till dawn        "
      ]
     },
     "execution_count": 9,
     "metadata": {},
     "output_type": "execute_result"
    }
   ],
   "source": [
    "model_df.head()"
   ]
  },
  {
   "cell_type": "code",
   "execution_count": 10,
   "metadata": {},
   "outputs": [
    {
     "name": "stdout",
     "output_type": "stream",
     "text": [
      "[nltk_data] Downloading package punkt to /Users/Benjamin/nltk_data...\n",
      "[nltk_data]   Package punkt is already up-to-date!\n"
     ]
    },
    {
     "data": {
      "text/plain": [
       "True"
      ]
     },
     "execution_count": 10,
     "metadata": {},
     "output_type": "execute_result"
    }
   ],
   "source": [
    "from nltk.tokenize import word_tokenize\n",
    "import nltk\n",
    "nltk.download('punkt')"
   ]
  },
  {
   "cell_type": "code",
   "execution_count": 11,
   "metadata": {},
   "outputs": [
    {
     "data": {
      "text/html": [
       "<div>\n",
       "<style scoped>\n",
       "    .dataframe tbody tr th:only-of-type {\n",
       "        vertical-align: middle;\n",
       "    }\n",
       "\n",
       "    .dataframe tbody tr th {\n",
       "        vertical-align: top;\n",
       "    }\n",
       "\n",
       "    .dataframe thead th {\n",
       "        text-align: right;\n",
       "    }\n",
       "</style>\n",
       "<table border=\"1\" class=\"dataframe\">\n",
       "  <thead>\n",
       "    <tr style=\"text-align: right;\">\n",
       "      <th></th>\n",
       "      <th>artist</th>\n",
       "      <th>lyric</th>\n",
       "      <th>tokenized_lyrics</th>\n",
       "    </tr>\n",
       "  </thead>\n",
       "  <tbody>\n",
       "    <tr>\n",
       "      <th>0</th>\n",
       "      <td>Young Sinatra</td>\n",
       "      <td>yeah pass the mic before i jack it like goretex</td>\n",
       "      <td>[yeah, pass, the, mic, before, i, jack, it, like, goretex]</td>\n",
       "    </tr>\n",
       "    <tr>\n",
       "      <th>1</th>\n",
       "      <td>Young Sinatra</td>\n",
       "      <td>bust like raw sex rappers suck like vortex</td>\n",
       "      <td>[bust, like, raw, sex, rappers, suck, like, vortex]</td>\n",
       "    </tr>\n",
       "    <tr>\n",
       "      <th>2</th>\n",
       "      <td>Young Sinatra</td>\n",
       "      <td>the life of a don we living like kings and killing our pawns</td>\n",
       "      <td>[the, life, of, a, don, we, living, like, kings, and, killing, our, pawns]</td>\n",
       "    </tr>\n",
       "    <tr>\n",
       "      <th>3</th>\n",
       "      <td>Young Sinatra</td>\n",
       "      <td>boy the seconds its on  dont know where we going</td>\n",
       "      <td>[boy, the, seconds, its, on, dont, know, where, we, going]</td>\n",
       "    </tr>\n",
       "    <tr>\n",
       "      <th>4</th>\n",
       "      <td>Young Sinatra</td>\n",
       "      <td>im flowing and killing this shit from dusk till dawn</td>\n",
       "      <td>[im, flowing, and, killing, this, shit, from, dusk, till, dawn]</td>\n",
       "    </tr>\n",
       "  </tbody>\n",
       "</table>\n",
       "</div>"
      ],
      "text/plain": [
       "          artist  \\\n",
       "0  Young Sinatra   \n",
       "1  Young Sinatra   \n",
       "2  Young Sinatra   \n",
       "3  Young Sinatra   \n",
       "4  Young Sinatra   \n",
       "\n",
       "                                                          lyric  \\\n",
       "0  yeah pass the mic before i jack it like goretex                \n",
       "1  bust like raw sex rappers suck like vortex                     \n",
       "2  the life of a don we living like kings and killing our pawns   \n",
       "3  boy the seconds its on  dont know where we going               \n",
       "4  im flowing and killing this shit from dusk till dawn           \n",
       "\n",
       "                                                             tokenized_lyrics  \n",
       "0  [yeah, pass, the, mic, before, i, jack, it, like, goretex]                  \n",
       "1  [bust, like, raw, sex, rappers, suck, like, vortex]                         \n",
       "2  [the, life, of, a, don, we, living, like, kings, and, killing, our, pawns]  \n",
       "3  [boy, the, seconds, its, on, dont, know, where, we, going]                  \n",
       "4  [im, flowing, and, killing, this, shit, from, dusk, till, dawn]             "
      ]
     },
     "execution_count": 11,
     "metadata": {},
     "output_type": "execute_result"
    }
   ],
   "source": [
    "model_df['tokenized_lyrics'] = model_df.lyric.apply(word_tokenize) \n",
    "model_df.head()"
   ]
  },
  {
   "cell_type": "code",
   "execution_count": 12,
   "metadata": {},
   "outputs": [],
   "source": [
    "model_df = model_df.drop([\"lyric\"], axis=1)"
   ]
  },
  {
   "cell_type": "code",
   "execution_count": 13,
   "metadata": {},
   "outputs": [
    {
     "data": {
      "text/html": [
       "<div>\n",
       "<style scoped>\n",
       "    .dataframe tbody tr th:only-of-type {\n",
       "        vertical-align: middle;\n",
       "    }\n",
       "\n",
       "    .dataframe tbody tr th {\n",
       "        vertical-align: top;\n",
       "    }\n",
       "\n",
       "    .dataframe thead th {\n",
       "        text-align: right;\n",
       "    }\n",
       "</style>\n",
       "<table border=\"1\" class=\"dataframe\">\n",
       "  <thead>\n",
       "    <tr style=\"text-align: right;\">\n",
       "      <th></th>\n",
       "      <th>artist</th>\n",
       "      <th>tokenized_lyrics</th>\n",
       "    </tr>\n",
       "  </thead>\n",
       "  <tbody>\n",
       "    <tr>\n",
       "      <th>0</th>\n",
       "      <td>Young Sinatra</td>\n",
       "      <td>[yeah, pass, the, mic, before, i, jack, it, like, goretex]</td>\n",
       "    </tr>\n",
       "    <tr>\n",
       "      <th>1</th>\n",
       "      <td>Young Sinatra</td>\n",
       "      <td>[bust, like, raw, sex, rappers, suck, like, vortex]</td>\n",
       "    </tr>\n",
       "    <tr>\n",
       "      <th>2</th>\n",
       "      <td>Young Sinatra</td>\n",
       "      <td>[the, life, of, a, don, we, living, like, kings, and, killing, our, pawns]</td>\n",
       "    </tr>\n",
       "    <tr>\n",
       "      <th>3</th>\n",
       "      <td>Young Sinatra</td>\n",
       "      <td>[boy, the, seconds, its, on, dont, know, where, we, going]</td>\n",
       "    </tr>\n",
       "    <tr>\n",
       "      <th>4</th>\n",
       "      <td>Young Sinatra</td>\n",
       "      <td>[im, flowing, and, killing, this, shit, from, dusk, till, dawn]</td>\n",
       "    </tr>\n",
       "  </tbody>\n",
       "</table>\n",
       "</div>"
      ],
      "text/plain": [
       "          artist  \\\n",
       "0  Young Sinatra   \n",
       "1  Young Sinatra   \n",
       "2  Young Sinatra   \n",
       "3  Young Sinatra   \n",
       "4  Young Sinatra   \n",
       "\n",
       "                                                             tokenized_lyrics  \n",
       "0  [yeah, pass, the, mic, before, i, jack, it, like, goretex]                  \n",
       "1  [bust, like, raw, sex, rappers, suck, like, vortex]                         \n",
       "2  [the, life, of, a, don, we, living, like, kings, and, killing, our, pawns]  \n",
       "3  [boy, the, seconds, its, on, dont, know, where, we, going]                  \n",
       "4  [im, flowing, and, killing, this, shit, from, dusk, till, dawn]             "
      ]
     },
     "execution_count": 13,
     "metadata": {},
     "output_type": "execute_result"
    }
   ],
   "source": [
    "model_df.head()"
   ]
  },
  {
   "cell_type": "markdown",
   "metadata": {},
   "source": [
    "# W2V Models"
   ]
  },
  {
   "cell_type": "code",
   "execution_count": 14,
   "metadata": {},
   "outputs": [],
   "source": [
    "import gensim"
   ]
  },
  {
   "cell_type": "code",
   "execution_count": 15,
   "metadata": {},
   "outputs": [],
   "source": [
    "word2vec_path = \"~/Downloads/GoogleNews-vectors-negative300.bin.gz\"\n",
    "word2vec = gensim.models.KeyedVectors.load_word2vec_format(word2vec_path, binary=True)"
   ]
  },
  {
   "cell_type": "code",
   "execution_count": 16,
   "metadata": {},
   "outputs": [
    {
     "name": "stderr",
     "output_type": "stream",
     "text": [
      "/Library/Frameworks/Python.framework/Versions/3.6/lib/python3.6/site-packages/sklearn/cross_validation.py:41: DeprecationWarning: This module was deprecated in version 0.18 in favor of the model_selection module into which all the refactored classes and functions are moved. Also note that the interface of the new CV iterators are different from that of this module. This module will be removed in 0.20.\n",
      "  \"This module will be removed in 0.20.\", DeprecationWarning)\n"
     ]
    }
   ],
   "source": [
    "from sklearn.cross_validation import train_test_split\n",
    "\n",
    "def get_average_word2vec(tokens_list, vector, generate_missing=False, k=300):\n",
    "    if len(tokens_list)<1:\n",
    "        return np.zeros(k)\n",
    "    if generate_missing:\n",
    "        vectorized = [vector[word] if word in vector else np.random.rand(k) for word in tokens_list]\n",
    "    else:\n",
    "        vectorized = [vector[word] if word in vector else np.zeros(k) for word in tokens_list]\n",
    "    length = len(vectorized)\n",
    "    summed = np.sum(vectorized, axis=0)\n",
    "    averaged = np.divide(summed, length)\n",
    "    return averaged\n",
    "\n",
    "def get_word2vec_embeddings(vectors, dfmerged, generate_missing=False):\n",
    "    embeddings = model_df['tokenized_lyrics'].apply(lambda x: get_average_word2vec(x, vectors, \n",
    "                                                                                generate_missing=generate_missing))\n",
    "    return list(embeddings)\n",
    "\n",
    "embeddings = get_word2vec_embeddings(word2vec, model_df)\n",
    "X_train_word2vec, X_test_word2vec, y_train_word2vec, y_test_word2vec = train_test_split(embeddings, model_df['artist'], \n",
    "                                                                                        test_size=0.2, random_state=40)"
   ]
  },
  {
   "cell_type": "code",
   "execution_count": 17,
   "metadata": {},
   "outputs": [
    {
     "data": {
      "text/plain": [
       "5067    Logic          \n",
       "416     Young Sinatra  \n",
       "3076    Bobby Tarantino\n",
       "1932    Young Sinatra  \n",
       "5539    Bobby Tarantino\n",
       "Name: artist, dtype: object"
      ]
     },
     "execution_count": 17,
     "metadata": {},
     "output_type": "execute_result"
    }
   ],
   "source": [
    "y_test_word2vec.head()"
   ]
  },
  {
   "cell_type": "markdown",
   "metadata": {},
   "source": [
    "# Gaussian NB "
   ]
  },
  {
   "cell_type": "code",
   "execution_count": 84,
   "metadata": {},
   "outputs": [
    {
     "data": {
      "text/plain": [
       "GridSearchCV(cv=3, error_score='raise',\n",
       "       estimator=Pipeline(memory=None, steps=[('nb', GaussianNB(priors=None))]),\n",
       "       fit_params=None, iid=True, n_jobs=1, param_grid={},\n",
       "       pre_dispatch='2*n_jobs', refit=True, return_train_score='warn',\n",
       "       scoring='accuracy', verbose=0)"
      ]
     },
     "execution_count": 84,
     "metadata": {},
     "output_type": "execute_result"
    }
   ],
   "source": [
    "from sklearn.naive_bayes import GaussianNB\n",
    "from sklearn.pipeline import Pipeline\n",
    "from sklearn.model_selection import GridSearchCV\n",
    "\n",
    "\n",
    "#create pipeline\n",
    "pipe = Pipeline([('nb', GaussianNB())])\n",
    "#set param_grid\n",
    "param_grid = {}\n",
    "#grid search through the parameters \n",
    "grid = GridSearchCV(pipe, cv=3, param_grid=param_grid, scoring='accuracy', refit=True)\n",
    "#fit it to my data \n",
    "grid.fit(X_train_word2vec, y_train_word2vec)"
   ]
  },
  {
   "cell_type": "code",
   "execution_count": 85,
   "metadata": {},
   "outputs": [],
   "source": [
    "y_test_pred = grid.predict(X_test_word2vec)"
   ]
  },
  {
   "cell_type": "code",
   "execution_count": 86,
   "metadata": {},
   "outputs": [
    {
     "data": {
      "text/plain": [
       "0.41765704584040747"
      ]
     },
     "execution_count": 86,
     "metadata": {},
     "output_type": "execute_result"
    }
   ],
   "source": [
    "from sklearn.metrics import accuracy_score\n",
    "accuracy_score(y_test_word2vec, y_test_pred)"
   ]
  },
  {
   "cell_type": "markdown",
   "metadata": {},
   "source": [
    "# KNC "
   ]
  },
  {
   "cell_type": "code",
   "execution_count": null,
   "metadata": {},
   "outputs": [],
   "source": [
    "from sklearn.pipeline import Pipeline\n",
    "from sklearn.model_selection import GridSearchCV\n",
    "from sklearn.neighbors import KNeighborsClassifier\n",
    "\n",
    "#create pipeline\n",
    "pipe = Pipeline([('knc', KNeighborsClassifier())])\n",
    "#set param_grid\n",
    "param_grid = {'knc__n_neighbors': [1,2,3,4,5,6,7], 'knc__leaf_size': [10,30,40,50,60]}\n",
    "#grid search through the parameters \n",
    "grid3 = GridSearchCV(pipe, cv=3, param_grid=param_grid, scoring='accuracy', refit=True)\n",
    "#fit it to my data \n",
    "grid3.fit(X_train_word2vec, y_train_word2vec)"
   ]
  },
  {
   "cell_type": "code",
   "execution_count": 59,
   "metadata": {},
   "outputs": [],
   "source": [
    "knc = KNeighborsClassifier()"
   ]
  },
  {
   "cell_type": "code",
   "execution_count": 60,
   "metadata": {},
   "outputs": [
    {
     "data": {
      "text/plain": [
       "KNeighborsClassifier(algorithm='auto', leaf_size=30, metric='minkowski',\n",
       "           metric_params=None, n_jobs=1, n_neighbors=5, p=2,\n",
       "           weights='uniform')"
      ]
     },
     "execution_count": 60,
     "metadata": {},
     "output_type": "execute_result"
    }
   ],
   "source": [
    "knc.fit(X_train_word2vec, y_train_word2vec)"
   ]
  },
  {
   "cell_type": "code",
   "execution_count": 61,
   "metadata": {},
   "outputs": [],
   "source": [
    "y_test_pred = knc.predict(X_test_word2vec)"
   ]
  },
  {
   "cell_type": "code",
   "execution_count": 62,
   "metadata": {},
   "outputs": [
    {
     "data": {
      "text/plain": [
       "0.5925297113752123"
      ]
     },
     "execution_count": 62,
     "metadata": {},
     "output_type": "execute_result"
    }
   ],
   "source": [
    "from sklearn.metrics import accuracy_score\n",
    "accuracy_score(y_test_word2vec, y_test_pred)"
   ]
  },
  {
   "cell_type": "markdown",
   "metadata": {},
   "source": [
    "# SVC"
   ]
  },
  {
   "cell_type": "code",
   "execution_count": 63,
   "metadata": {},
   "outputs": [],
   "source": [
    "from sklearn.svm import SVC"
   ]
  },
  {
   "cell_type": "code",
   "execution_count": 79,
   "metadata": {},
   "outputs": [],
   "source": [
    "svc = SVC(C=2000.0)"
   ]
  },
  {
   "cell_type": "code",
   "execution_count": 80,
   "metadata": {},
   "outputs": [
    {
     "data": {
      "text/plain": [
       "SVC(C=2000.0, cache_size=200, class_weight=None, coef0=0.0,\n",
       "  decision_function_shape='ovr', degree=3, gamma='auto', kernel='rbf',\n",
       "  max_iter=-1, probability=False, random_state=None, shrinking=True,\n",
       "  tol=0.001, verbose=False)"
      ]
     },
     "execution_count": 80,
     "metadata": {},
     "output_type": "execute_result"
    }
   ],
   "source": [
    "svc.fit(X_train_word2vec, y_train_word2vec)"
   ]
  },
  {
   "cell_type": "code",
   "execution_count": 81,
   "metadata": {},
   "outputs": [
    {
     "data": {
      "text/plain": [
       "0.5747028862478778"
      ]
     },
     "execution_count": 81,
     "metadata": {},
     "output_type": "execute_result"
    }
   ],
   "source": [
    "y_test_pred = svc.predict(X_test_word2vec)\n",
    "accuracy_score(y_test_word2vec, y_test_pred)"
   ]
  },
  {
   "cell_type": "code",
   "execution_count": null,
   "metadata": {},
   "outputs": [],
   "source": []
  },
  {
   "cell_type": "code",
   "execution_count": null,
   "metadata": {},
   "outputs": [],
   "source": []
  },
  {
   "cell_type": "code",
   "execution_count": null,
   "metadata": {},
   "outputs": [],
   "source": []
  },
  {
   "cell_type": "code",
   "execution_count": null,
   "metadata": {},
   "outputs": [],
   "source": []
  },
  {
   "cell_type": "code",
   "execution_count": null,
   "metadata": {},
   "outputs": [],
   "source": []
  },
  {
   "cell_type": "code",
   "execution_count": null,
   "metadata": {},
   "outputs": [],
   "source": []
  },
  {
   "cell_type": "code",
   "execution_count": null,
   "metadata": {},
   "outputs": [],
   "source": []
  }
 ],
 "metadata": {
  "kernelspec": {
   "display_name": "Python 3",
   "language": "python",
   "name": "python3"
  },
  "language_info": {
   "codemirror_mode": {
    "name": "ipython",
    "version": 3
   },
   "file_extension": ".py",
   "mimetype": "text/x-python",
   "name": "python",
   "nbconvert_exporter": "python",
   "pygments_lexer": "ipython3",
   "version": "3.6.0"
  }
 },
 "nbformat": 4,
 "nbformat_minor": 2
}
